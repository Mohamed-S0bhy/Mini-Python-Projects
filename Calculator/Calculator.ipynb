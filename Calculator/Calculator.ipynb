{
 "cells": [
  {
   "cell_type": "code",
   "execution_count": null,
   "id": "e18a269b-1419-4bf9-a298-fca0ba540d19",
   "metadata": {},
   "outputs": [],
   "source": []
  },
  {
   "cell_type": "code",
   "execution_count": 2,
   "id": "ec4b2984-ed5a-44b0-8ab7-04dad1bde9b3",
   "metadata": {},
   "outputs": [],
   "source": [
    "class Calculator:\n",
    "    def __init__(self, root):\n",
    "        self.root = root\n",
    "        self.root.title(\"Smart GUI Calculator\")\n",
    "        self.root.geometry(\"300x400\")\n",
    "\n",
    "        self.expression = \"\"\n",
    "        self.create_widgets()\n",
    "\n",
    "    def create_widgets(self):\n",
    "        # Entry widget to display the expression\n",
    "        self.display = tk.Entry(self.root, width=20, font=(\"Arial\", 18), bd=5, relief=tk.GROOVE, justify=tk.RIGHT)\n",
    "        self.display.grid(row=0, column=0, columnspan=4, pady=10)\n",
    "\n",
    "        # Buttons for numbers and operations with enhanced styling\n",
    "        buttons = [\n",
    "            ('7', 1, 0), ('8', 1, 1), ('9', 1, 2), ('/', 1, 3),\n",
    "            ('4', 2, 0), ('5', 2, 1), ('6', 2, 2), ('*', 2, 3),\n",
    "            ('1', 3, 0), ('2', 3, 1), ('3', 3, 2), ('-', 3, 3),\n",
    "            ('0', 4, 0), ('.', 4, 1), ('=', 4, 2), ('+', 4, 3),\n",
    "        ]\n",
    "\n",
    "        for (text, row, column) in buttons:\n",
    "            tk.Button(self.root, text=text, width=5, height=2,\n",
    "                      font=(\"Arial\", 14), bd=3, relief=tk.RAISED,\n",
    "                      command=lambda text=text: self.on_button_click(text)).grid(row=row, column=column, padx=5, pady=5)\n",
    "\n",
    "        # Clear button with enhanced styling\n",
    "        tk.Button(self.root, text=\"Clear\", width=5, height=2,\n",
    "                  font=(\"Arial\", 14), bd=3, relief=tk.RAISED, bg=\"lightgray\",\n",
    "                  command=self.clear).grid(row=5, column=0, columnspan=4, padx=5, pady=5)\n",
    "\n",
    "    def on_button_click(self, text):\n",
    "        if text == '=':\n",
    "            try:\n",
    "                self.expression = str(eval(self.expression))\n",
    "            except Exception as e:\n",
    "                self.expression = \"Error\"\n",
    "        elif text == 'Clear':\n",
    "            self.clear()\n",
    "        else:\n",
    "            self.expression += text\n",
    "\n",
    "        self.display.delete(0, tk.END)\n",
    "        self.display.insert(tk.END, self.expression)\n",
    "\n",
    "    def clear(self):\n",
    "        self.expression = \"\"\n",
    "        self.display.delete(0, tk.END)\n",
    "\n",
    "\n"
   ]
  },
  {
   "cell_type": "code",
   "execution_count": null,
   "id": "60adbc71-9137-4ab2-a185-3243c36041de",
   "metadata": {},
   "outputs": [],
   "source": [
    "if __name__ == \"__main__\":\n",
    "    root = tk.Tk()\n",
    "    root.configure(bg='lightblue')  # Set background color of the root window\n",
    "    calculator = Calculator(root)\n",
    "    root.mainloop()\n"
   ]
  }
 ],
 "metadata": {
  "kernelspec": {
   "display_name": "Python 3 (ipykernel)",
   "language": "python",
   "name": "python3"
  },
  "language_info": {
   "codemirror_mode": {
    "name": "ipython",
    "version": 3
   },
   "file_extension": ".py",
   "mimetype": "text/x-python",
   "name": "python",
   "nbconvert_exporter": "python",
   "pygments_lexer": "ipython3",
   "version": "3.11.5"
  }
 },
 "nbformat": 4,
 "nbformat_minor": 5
}
