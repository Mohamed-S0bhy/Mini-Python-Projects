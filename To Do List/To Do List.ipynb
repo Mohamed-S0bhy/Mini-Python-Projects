{
 "cells": [
  {
   "cell_type": "code",
   "execution_count": 7,
   "id": "a5d1d2ee-83f3-4d75-a365-640609a5d475",
   "metadata": {},
   "outputs": [],
   "source": [
    "import tkinter as tk\n",
    "from tkinter import messagebox"
   ]
  },
  {
   "cell_type": "code",
   "execution_count": 8,
   "id": "2d7a9aa6-6a47-4a58-a2e7-c6767c5dc2b4",
   "metadata": {},
   "outputs": [],
   "source": [
    "def add_task():\n",
    "    task = task_entry.get().strip()\n",
    "    if task:\n",
    "        task_list.insert(tk.END, task)\n",
    "        task_entry.delete(0, tk.END)\n",
    "    else:\n",
    "        messagebox.showwarning(\"Warning\", \"Please enter a task.\")"
   ]
  },
  {
   "cell_type": "code",
   "execution_count": 9,
   "id": "ffc10d9b-533c-406a-a3cd-902fd785f11d",
   "metadata": {},
   "outputs": [],
   "source": [
    "def mark_task():\n",
    "    try:\n",
    "        index = task_list.curselection()[0]\n",
    "        task_list.itemconfig(index, bg='#FFCC80', fg='#333333')  # Light orange background, dark text\n",
    "    except IndexError:\n",
    "        messagebox.showwarning(\"Warning\", \"Please select a task to mark.\")"
   ]
  },
  {
   "cell_type": "code",
   "execution_count": 10,
   "id": "9af34b39-928a-4fd3-bec5-dcb6b650f1aa",
   "metadata": {},
   "outputs": [],
   "source": [
    "def remove_task():\n",
    "    try:\n",
    "        index = task_list.curselection()[0]\n",
    "        task_list.delete(index)\n",
    "    except IndexError:\n",
    "        messagebox.showwarning(\"Warning\", \"Please select a task to remove.\")"
   ]
  },
  {
   "cell_type": "code",
   "execution_count": null,
   "id": "feabf2a6-9e4a-4cc2-906b-7eb6f9d5a12a",
   "metadata": {},
   "outputs": [],
   "source": []
  },
  {
   "cell_type": "code",
   "execution_count": 11,
   "id": "d73717c3-b41c-46cc-85ae-2cc7cbdbdb97",
   "metadata": {},
   "outputs": [],
   "source": [
    "root = tk.Tk()\n",
    "root.title(\"Simple To-Do List\")\n",
    "root.geometry(\"400x400\")\n",
    "root.configure(bg='#E0F2F1') \n",
    "\n",
    "title_label = tk.Label(root, text=\"To-Do List\", font=(\"Arial\", 24), bg='#E0F2F1', fg='#388E3C')  \n",
    "title_label.pack(pady=10)\n",
    "\n",
    "task_entry = tk.Entry(root, width=30, font=(\"Arial\", 14))\n",
    "task_entry.pack(pady=10)\n",
    "\n",
    "add_button = tk.Button(root, text=\"Add Task\", font=(\"Arial\", 14), bg='#4CAF50', fg='white', command=add_task) \n",
    "add_button.pack(pady=5)\n",
    "\n",
    "task_list = tk.Listbox(root, width=40, height=10, font=(\"Arial\", 12))\n",
    "task_list.pack(padx=10, pady=10)\n",
    "\n",
    "mark_button = tk.Button(root, text=\"Mark as Done\", font=(\"Arial\", 12), bg='#FF9800', fg='white', command=mark_task)  \n",
    "mark_button.pack(side=tk.LEFT, padx=10, pady=5)\n",
    "\n",
    "remove_button = tk.Button(root, text=\"Remove Task\", font=(\"Arial\", 12), bg='#F44336', fg='white', command=remove_task) \n",
    "remove_button.pack(side=tk.LEFT, padx=10, pady=5)\n",
    "\n",
    "root.mainloop()\n"
   ]
  }
 ],
 "metadata": {
  "kernelspec": {
   "display_name": "Python 3 (ipykernel)",
   "language": "python",
   "name": "python3"
  },
  "language_info": {
   "codemirror_mode": {
    "name": "ipython",
    "version": 3
   },
   "file_extension": ".py",
   "mimetype": "text/x-python",
   "name": "python",
   "nbconvert_exporter": "python",
   "pygments_lexer": "ipython3",
   "version": "3.11.5"
  }
 },
 "nbformat": 4,
 "nbformat_minor": 5
}
