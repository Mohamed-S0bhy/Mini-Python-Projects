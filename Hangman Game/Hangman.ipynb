{
 "cells": [
  {
   "cell_type": "code",
   "execution_count": 21,
   "id": "68c10922-edcd-4321-9c0d-33ff97cfb30c",
   "metadata": {},
   "outputs": [],
   "source": [
    "import tkinter as tk\n",
    "from tkinter import messagebox\n",
    "import random"
   ]
  },
  {
   "cell_type": "code",
   "execution_count": null,
   "id": "874010fd-d344-4b48-bc77-2b9d9002d71a",
   "metadata": {},
   "outputs": [],
   "source": [
    "def importaword(filename=\"words.txt\"):\n",
    "    with open(filename, 'r') as file:\n",
    "        words = file.read().split()\n",
    "    original_word = random.choice(words).lower()\n",
    "    return original_word"
   ]
  },
  {
   "cell_type": "code",
   "execution_count": null,
   "id": "0b783fab-9470-4043-8f82-034c40fbd8ef",
   "metadata": {},
   "outputs": [],
   "source": [
    "def update_display():\n",
    "    display = \"\"\n",
    "    for char in original_word:\n",
    "        if char in correct:\n",
    "            display += char + \" \"\n",
    "        else:\n",
    "            display += \"_ \"\n",
    "    display_label.config(text=display.strip())"
   ]
  },
  {
   "cell_type": "code",
   "execution_count": null,
   "id": "5169f6fd-1aac-4b49-a34a-70332282278f",
   "metadata": {},
   "outputs": [],
   "source": [
    "def guess_letter(letter):\n",
    "    if letter in history:\n",
    "        messagebox.showinfo(\"Info\", \"You already guessed that letter.\")\n",
    "    else:\n",
    "        history.append(letter)\n",
    "        if letter in original_word:\n",
    "            correct.append(letter)\n",
    "        else:\n",
    "            global tries\n",
    "            tries -= 1\n",
    "        update_display()\n",
    "        check_game_over()\n",
    "    buttons[letter]['state'] = 'disabled'"
   ]
  },
  {
   "cell_type": "code",
   "execution_count": null,
   "id": "6bc859a2-2a37-4bc0-94da-501e03ffc099",
   "metadata": {},
   "outputs": [],
   "source": [
    "def give_hint():\n",
    "    global hints\n",
    "    if hints > 0:\n",
    "        available_letters = [char for char in original_word if char not in correct]\n",
    "        if available_letters:\n",
    "            hint_letter = random.choice(available_letters)\n",
    "            correct.append(hint_letter)\n",
    "            history.append(hint_letter)\n",
    "            update_display()\n",
    "            check_game_over()\n",
    "            buttons[hint_letter]['state'] = 'disabled'\n",
    "            hints -= 1\n",
    "            hints_label.config(text=f\"Hints remaining: {hints}\")\n",
    "        else:\n",
    "            messagebox.showinfo(\"Info\", \"No more hints available!\")\n",
    "    else:\n",
    "        messagebox.showinfo(\"Info\", \"No more hints left!\")"
   ]
  },
  {
   "cell_type": "code",
   "execution_count": null,
   "id": "e4375f50-02d3-4b73-b09a-c8e4a24b9551",
   "metadata": {},
   "outputs": [],
   "source": [
    "def check_game_over():\n",
    "    if tries <= 0:\n",
    "        messagebox.showinfo(\"Game Over\", f\"Game over! The word was: {original_word}\")\n",
    "        root.destroy()\n",
    "    elif all(char in correct for char in original_word):\n",
    "        messagebox.showinfo(\"Congratulations\", f\"Congratulations! You guessed the word: {original_word}\")\n",
    "        root.destroy()\n",
    "    tries_label.config(text=f\"Tries remaining: {tries}\")"
   ]
  },
  {
   "cell_type": "code",
   "execution_count": null,
   "id": "3363032e-77b6-4c48-8d85-3442850eb7e7",
   "metadata": {},
   "outputs": [],
   "source": [
    "def reset_game():\n",
    "    global original_word, correct, history, tries, hints\n",
    "    original_word = importaword()\n",
    "    correct = []\n",
    "    history = []\n",
    "    tries = 6\n",
    "    hints = 3\n",
    "    for button in buttons.values():\n",
    "        button['state'] = 'normal'\n",
    "    update_display()\n",
    "    tries_label.config(text=f\"Tries remaining: {tries}\")\n",
    "    hints_label.config(text=f\"Hints remaining: {hints}\")"
   ]
  },
  {
   "cell_type": "code",
   "execution_count": null,
   "id": "2f64b4f9-6d03-4f15-98b0-6f3810817a60",
   "metadata": {},
   "outputs": [],
   "source": [
    "def exit_game():\n",
    "    root.destroy()"
   ]
  },
  {
   "cell_type": "code",
   "execution_count": 84,
   "id": "27ec1a32-6cf2-4f14-bcb5-cb44669720f0",
   "metadata": {},
   "outputs": [],
   "source": [
    "def hangman_game():\n",
    "    global original_word, correct, history, tries, buttons, hints\n",
    "    original_word = importaword()\n",
    "    correct = []\n",
    "    history = []\n",
    "    tries = 6\n",
    "    hints = 3\n",
    "    buttons = {}\n",
    "\n",
    "    # Create the main window\n",
    "    global root\n",
    "    root = tk.Tk()\n",
    "    root.title(\"Hangman Game\")\n",
    "    root.geometry(\"600x500\")\n",
    "    root.configure(bg=\"#87CEFA\")\n",
    "\n",
    "    # Title label\n",
    "    title_label = tk.Label(root, text=\"Hangman Game\", font=(\"Helvetica\", 30, \"bold\"), bg=\"#87CEFA\", fg=\"#8A2BE2\")\n",
    "    title_label.pack(pady=10)\n",
    "\n",
    "    # Display the word to guess\n",
    "    global display_label\n",
    "    display_label = tk.Label(root, text=\"\", font=(\"Helvetica\", 24), bg=\"#87CEFA\")\n",
    "    display_label.pack(pady=20)\n",
    "    update_display()\n",
    "\n",
    "    # Create buttons for each letter\n",
    "    letters_frame1 = tk.Frame(root, bg=\"#87CEFA\")\n",
    "    letters_frame1.pack(pady=5)\n",
    "    letters_frame2 = tk.Frame(root, bg=\"#87CEFA\")\n",
    "    letters_frame2.pack(pady=5)\n",
    "\n",
    "    for i, letter in enumerate('abcdefghijklmnopqrstuvwxyz'):\n",
    "        button = tk.Button(letters_frame1 if i < 13 else letters_frame2, text=letter, font=(\"Helvetica\", 14), command=lambda l=letter: guess_letter(l), bg=\"white\", fg=\"black\", width=2, relief=\"raised\")\n",
    "        button.grid(row=0, column=i % 13, padx=2, pady=2)\n",
    "        buttons[letter] = button\n",
    "\n",
    "    # Hint button\n",
    "    hint_button = tk.Button(root, text=\"Hint\", command=give_hint, font=(\"Helvetica\", 14), bg=\"orange\", fg=\"white\", relief=\"raised\")\n",
    "    hint_button.pack(pady=10)\n",
    "\n",
    "    # Display remaining tries\n",
    "    global tries_label\n",
    "    tries_label = tk.Label(root, text=f\"Tries remaining: {tries}\", font=(\"Helvetica\", 14, \"bold\"), bg=\"#FF6347\", fg=\"white\", borderwidth=2, relief=\"groove\")\n",
    "    tries_label.pack(pady=5, ipadx=10, ipady=5)\n",
    "\n",
    "    # Display remaining hints\n",
    "    global hints_label\n",
    "    hints_label = tk.Label(root, text=f\"Hints remaining: {hints}\", font=(\"Helvetica\", 14, \"bold\"), bg=\"#FFD700\", fg=\"black\", borderwidth=2, relief=\"groove\")\n",
    "    hints_label.pack(pady=5, ipadx=10, ipady=5)\n",
    "\n",
    "    # Frame for Reset and Exit buttons\n",
    "    bottom_frame = tk.Frame(root, bg=\"#87CEFA\")\n",
    "    bottom_frame.pack(pady=20)\n",
    "\n",
    "    # Reset button\n",
    "    reset_button = tk.Button(bottom_frame, text=\"Reset\", command=reset_game, font=(\"Helvetica\", 14), bg=\"#228B22\", fg=\"white\", relief=\"raised\", width=10)\n",
    "    reset_button.grid(row=0, column=0, padx=10)\n",
    "\n",
    "    # Exit button\n",
    "    exit_button = tk.Button(bottom_frame, text=\"Exit\", command=exit_game, font=(\"Helvetica\", 14), bg=\"#B22222\", fg=\"white\", relief=\"raised\", width=10)\n",
    "    exit_button.grid(row=0, column=1, padx=10)\n",
    "\n",
    "    root.mainloop()\n",
    "\n",
    "if __name__ == \"__main__\":\n",
    "    hangman_game()\n"
   ]
  }
 ],
 "metadata": {
  "kernelspec": {
   "display_name": "Python 3 (ipykernel)",
   "language": "python",
   "name": "python3"
  },
  "language_info": {
   "codemirror_mode": {
    "name": "ipython",
    "version": 3
   },
   "file_extension": ".py",
   "mimetype": "text/x-python",
   "name": "python",
   "nbconvert_exporter": "python",
   "pygments_lexer": "ipython3",
   "version": "3.11.5"
  }
 },
 "nbformat": 4,
 "nbformat_minor": 5
}
